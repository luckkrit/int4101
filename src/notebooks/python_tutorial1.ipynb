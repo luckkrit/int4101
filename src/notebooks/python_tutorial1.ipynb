{
 "cells": [
  {
   "cell_type": "markdown",
   "metadata": {},
   "source": [
    "---\n",
    "title: Tutorial 1\n",
    "lastUpdated: 2025-01-27\n",
    "---\n",
    "\n",
    "# Python3 Tutorial\n",
    "\n",
    "- Python คือภาษาคอมพิวเตอร์ เวลาเขียนคำสั่งให้ทำงาน จะต้องผ่านตัวแปลภาษา หรือ Interpreter เพื่อแปลงไปเป็น Machine Code อีกที \n",
    "- Machine Code เป็นภาษาที่คอมพิวเตอร์เข้าใจ"
   ]
  },
  {
   "cell_type": "code",
   "execution_count": null,
   "metadata": {},
   "outputs": [],
   "source": [
    "# การ Comment code จะขึ้นต้นด้วย #\n",
    "# ดังนั้นถ้ามี # นำหน้าข้อความนี้จะไม่ถูกนำไปประมวลผล\n",
    "print(\"Test\") # แสดงข้อความออกทางจอภาพ\n",
    "print(100+400) # แสดงตัวเลขออกทางจอภาพ\n",
    "\n",
    "'''\n",
    "การ comment ทีละหลายบรรทัด\n",
    "จะสะดวกมากขึ้นสำหรับการ comment code ทีละหลายบรรทัด\n",
    "'''\n",
    "\n",
    "\"\"\"\n",
    "หรือ อันนี้ก็ได้เช่นกัน\n",
    "\"\"\"\n"
   ]
  },
  {
   "cell_type": "markdown",
   "metadata": {},
   "source": [
    "## การตั้งชื่อตัวแปร\n",
    "\n",
    "- ขึ้นต้นด้วยตัวอักษร A-Z หรือ a-z หรือเครื่องหมาย _\n",
    "- อักษรตัวแรกห้ามเป็นตัวเลข\n",
    "- ตัวพิมพ์เล็ก-ใหญ่ ไม่ถือว่าเป็นตัวเดียวกัน (Case Sensitive)\n",
    "- ห้ามใช้เครื่องหมายพิเศษในการตั้งชื่อเช่น {}, %, ^ และช่องว่างเป็นต้น\n",
    "- ห้ามใช้คำที่ตรงกับคำสงวนหรือคำสั่งพิเศษในภาษา Python"
   ]
  },
  {
   "cell_type": "markdown",
   "metadata": {},
   "source": [
    "## ตัวอย่างคำสงวนในภาษา Python\n",
    "\n",
    "<table>\n",
    "<tbody>\n",
    "<tr>\n",
    "<td>and</td>\n",
    "<td>as</td>\n",
    "<td>break</td>\n",
    "<td>class</td>\n",
    "<td>continue</td>\n",
    "</tr>\n",
    "<tr>\n",
    "<td>def</td>\n",
    "<td>elif</td>\n",
    "<td>else</td>\n",
    "<td>except</td>\n",
    "<td>False</td>\n",
    "</tr>\n",
    "<tr>\n",
    "<td>finally</td>\n",
    "<td>for</td>\n",
    "<td>if</td>\n",
    "<td>in</td>\n",
    "<td>is</td>\n",
    "</tr>\n",
    "<tr>\n",
    "<td>None</td>\n",
    "<td>not</td>\n",
    "<td>or</td>\n",
    "<td>pass</td>\n",
    "<td>return</td>\n",
    "</tr>\n",
    "<tr>\n",
    "<td>True</td>\n",
    "<td>try</td>\n",
    "<td>while</td>\n",
    "<td>import</td>\n",
    "<td>from</td>\n",
    "</tr>\n",
    "</tbody>\n",
    "</table>"
   ]
  },
  {
   "cell_type": "markdown",
   "metadata": {},
   "source": [
    "## การประกาศตัวแปร"
   ]
  },
  {
   "cell_type": "code",
   "execution_count": null,
   "metadata": {},
   "outputs": [],
   "source": [
    "# ประกาศตัวแปรทีละบรรทัด\n",
    "a = 0 # ตัวเลขจำนวนเต็ม int\n",
    "b = False # ข้อมูลตรรกศาสตร์\n",
    "c = \"Message\" # ข้อมูลข้อความ จะมี \"\" ครอบข้อความ\n",
    "d = None # ไม่ระบุค่า\n",
    "print(a) # ได้ค่า 0\n",
    "print(type(a)) # ได้ <class 'int'> หมายถึงประเภท int\n",
    "print(b) # ได้ค่า False\n",
    "print(type(b)) # ได้ <class 'bool'>\n",
    "print(c) # ได้ Message\n",
    "print(type(c)) # ได้ <class 'str'>\n",
    "print(d) # None\n",
    "print(type(d)) # ได้ <class 'NoneType'>"
   ]
  },
  {
   "cell_type": "code",
   "execution_count": null,
   "metadata": {},
   "outputs": [],
   "source": [
    "# แก้ไขค่าจากการประกาศตัวแปร\n",
    "a = 1\n",
    "b = True\n",
    "c = \"Second message\"\n",
    "d = None\n",
    "\n",
    "# แก้ไขค่าจากการประกาศตัวแปรทีละหลายๆตัว\n",
    "a,b,c,d = 2,False,\"Third message\",None\n",
    "# พิมพ์ตัวแปรทีละหลายๆตัว\n",
    "print(a,b,c,d) # 2 False Third message None\n",
    "print(\"Message = \", c) # Message = Third message"
   ]
  },
  {
   "cell_type": "code",
   "execution_count": null,
   "metadata": {},
   "outputs": [],
   "source": [
    "# รับค่า Input จาก Keyboard\n",
    "a = input(\"Please type something.\")\n",
    "print(\"You input: \",a)"
   ]
  },
  {
   "cell_type": "code",
   "execution_count": null,
   "metadata": {},
   "outputs": [],
   "source": [
    "# แปลงชนิดข้อมูล\n",
    "\n",
    "a = \"0\"\n",
    "b = int(a) # แปลง Str ไปเป็น int\n",
    "print(a, b, type(a), type(b)) # 0 0 <class 'str'> <class 'int'>\n",
    "\n",
    "c = str(b) # แปลง int ไปเป็น str\n",
    "print(b, c, type(b), type(c)) # 0 0 <class 'int'> <class 'str'>"
   ]
  },
  {
   "cell_type": "markdown",
   "metadata": {},
   "source": [
    "## ตัวดำเนินการ (Operators)\n",
    "\n",
    "- Operator เช่น +, -, *, /\n",
    "- Operand ตัวดำเนินการ \n",
    "\n",
    "```python\n",
    "a = 1 + 2 # 1 คือ Operand, 2 คือ Operand แต่ + คือ Operator\n",
    "```"
   ]
  },
  {
   "cell_type": "markdown",
   "metadata": {},
   "source": [
    "### ประเภทของตัวดำเนินการ\n",
    "\n",
    "- ตัวดำเนินการทางคณิตศาสตร์\n",
    "- ตัวดำเนินการกำหนดค่า\n",
    "- ตัวดำเนินการเปรียบเทียบ\n",
    "- ตัวดำเนินการทางตรรกศาสตร์"
   ]
  },
  {
   "cell_type": "markdown",
   "metadata": {},
   "source": [
    "### ตัวดำเนินการทางคณิตศาสตร์\n",
    "\n",
    "|เครื่องหมาย|คำอธิบาย|\n",
    "|:-:|:-:|\n",
    "|+|บวก|\n",
    "|-|ลบ|\n",
    "|*|คูณ|\n",
    "|/|หาร|\n",
    "|%|หารเอาเศษ|\n",
    "|**|ยกกำลัง|\n",
    "|//|หารไม่เอาเศษ|"
   ]
  },
  {
   "cell_type": "code",
   "execution_count": null,
   "metadata": {},
   "outputs": [],
   "source": [
    "a = 1 + 1 # 2\n",
    "print(\"1 + 1 = \", a) # 1 + 1 = 2\n",
    "a = 2 - 1 # 1\n",
    "print(\"2 - 1 = \", a) # 2 - 1 = 1\n",
    "a = 2 * 2 # 4\n",
    "print(\"2 * 2 = \", a) # 2 * 2 = 4\n",
    "a = 1 / 2 # 0.5\n",
    "print(\"1 / 2 = \", a) # 1 / 2 = 0.5\n",
    "a = 2 % 2 # 0\n",
    "print(\"2 % 2 = \", a) # 2 % 2 = 0\n",
    "a = 2 ** 2 # 4\n",
    "print(\"2 ** 2 = \", a) # 2 ** 2 = 4\n",
    "a = 2 // 2 # 1\n",
    "print(\"2 // 2 = \", a) # 2 // 2 = 1"
   ]
  },
  {
   "cell_type": "markdown",
   "metadata": {},
   "source": [
    "### ตัวดำเนินการกำหนดค่า\n",
    "\n",
    "|เครื่องหมาย|รูปแบบการเขียน|ความหมาย|\n",
    "|:-:|:-:|:-:|\n",
    "|+=|x+=y|x=x+y|\n",
    "|-=|x-=y|x=x-y|\n",
    "|*=|x*=y|x=x*y|\n",
    "|/=|x/=y|x=x/y|\n",
    "|%=|x%=y|x=x%y|\n",
    "|**=|x**=y|x=x**y|\n",
    "|//=|x//=y|x=x//y|"
   ]
  },
  {
   "cell_type": "code",
   "execution_count": null,
   "metadata": {},
   "outputs": [],
   "source": [
    "# ประกาศตัวแปร\n",
    "x,y = 1,2\n",
    "\n",
    "x+=1 # 2\n",
    "print(\"x+=1 = \",x) # x+=1 = 2\n",
    "x-=1 # 1\n",
    "print(\"x-=1 = \",x) # x-=1 = 1\n",
    "x*=1 # 1\n",
    "print(\"x*=1 = \",x) # x*=1 = 1\n",
    "x/=1 # 1.0\n",
    "print(\"x/=1 = \",x) # x/=1 = 1.0\n",
    "x%=1 # 0.0\n",
    "print(\"x%1 = \",x) # x%=1 = 0.0\n",
    "x**=1 # 0.0\n",
    "print(\"x**1 = \",x) # x**1 = 0.0\n",
    "x//=1 # 0.0\n",
    "print(\"x//=1 = \",x) # x//=1 = 0.0"
   ]
  },
  {
   "cell_type": "markdown",
   "metadata": {},
   "source": [
    "### ตัวดำเนินการเปรียบเทียบ\n",
    "\n",
    "|เครื่องหมาย|คำอธิบาย|ตัวอย่าง|\n",
    "|:-:|:-:|:-:|\n",
    "|==|เท่ากับ|a==b|\n",
    "|!=|ไม่เท่ากับ|a!=b|\n",
    "|>|มากกว่า|a>b|\n",
    "|<|น้อยกว่า|a<b|\n",
    "|>=|มากกว่าเท่ากับ|a>=b|\n",
    "|<=|น้อยกว่าเท่ากับ|a<=b|"
   ]
  },
  {
   "cell_type": "code",
   "execution_count": null,
   "metadata": {},
   "outputs": [],
   "source": [
    "# ประกาศตัวแปร\n",
    "a,b = 1, 2\n",
    "\n",
    "print(\"a == b\", a==b) # False\n",
    "print(\"a != b\", a!=b) # True\n",
    "print(\"a > b\", a>b) # False\n",
    "print(\"a < b\", a<b) # True\n",
    "print(\"a >= b\", a>=b) # False\n",
    "print(\"a <= b\", a<=b) # True"
   ]
  },
  {
   "cell_type": "markdown",
   "metadata": {},
   "source": [
    "### การใช้ if, if...else, if...elif...else"
   ]
  },
  {
   "cell_type": "code",
   "execution_count": null,
   "metadata": {},
   "outputs": [],
   "source": [
    "# ประกาศตัวแปร\n",
    "a,b = 2,2\n",
    "\n",
    "# รูปแบบ 1\n",
    "if a == b:\n",
    "    print(\"a == b\") # a == b\n",
    "\n",
    "a,b = 1,2\n",
    "\n",
    "# รูปแบบ 2\n",
    "if a == b:\n",
    "    print(\"a == b\")\n",
    "else:\n",
    "    print(\"a != b\") # a != b\n",
    "\n",
    "# รูปแบบ 3\n",
    "if a == 0:\n",
    "    print(\"a == 0\")\n",
    "elif a == 2:\n",
    "    print(\"a == 2\")\n",
    "else:\n",
    "    print(\"a == 1\") # a = 1"
   ]
  },
  {
   "cell_type": "markdown",
   "metadata": {},
   "source": [
    "### Ternary Operator"
   ]
  },
  {
   "cell_type": "code",
   "execution_count": null,
   "metadata": {},
   "outputs": [],
   "source": [
    "a = 2\n",
    "print(\"even number\") if a % 2 == 0 else print(\"odd number\") "
   ]
  },
  {
   "cell_type": "markdown",
   "metadata": {},
   "source": [
    "## โจทย์ 1\n",
    "\n",
    "- จงเขียนโปรแกรมตัดเกรด โดยมีช่วงคะแนนดังนี้\n",
    "    - 80 - 100 คะแนน ได้เกรด A\n",
    "    - 70 - 79 คะแนน ได้เกรด B\n",
    "    - 0 - 69 คะแนน ได้เกรด F\n",
    "    - นอกนั้นให้ขึ้น N (Invalid)"
   ]
  }
 ],
 "metadata": {
  "kernelspec": {
   "display_name": "Python 3",
   "language": "python",
   "name": "python3"
  },
  "language_info": {
   "codemirror_mode": {
    "name": "ipython",
    "version": 3
   },
   "file_extension": ".py",
   "mimetype": "text/x-python",
   "name": "python",
   "nbconvert_exporter": "python",
   "pygments_lexer": "ipython3",
   "version": "3.13.1"
  }
 },
 "nbformat": 4,
 "nbformat_minor": 2
}
