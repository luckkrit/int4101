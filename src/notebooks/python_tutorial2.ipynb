{
 "cells": [
  {
   "cell_type": "markdown",
   "metadata": {},
   "source": [
    "---\n",
    "title: Tutorial 2\n",
    "lastUpdated: 2025-01-28\n",
    "---\n",
    "\n",
    "# Python3 Tutorial (2)"
   ]
  },
  {
   "cell_type": "markdown",
   "metadata": {},
   "source": [
    "## คำสั่งเงื่อนไข \n",
    "- If Statement เช่น if..else , if..elif..else, Nested if\n",
    "- Match Statement"
   ]
  },
  {
   "cell_type": "markdown",
   "metadata": {},
   "source": [
    "### Nested if"
   ]
  },
  {
   "cell_type": "code",
   "execution_count": null,
   "metadata": {},
   "outputs": [],
   "source": [
    "# Nested if เป็นการซ้อนเงื่อนไขไปเรื่อยๆ\n",
    "\n",
    "seconds = 59\n",
    "minutes = 59\n",
    "hours = 21\n",
    "\n",
    "if seconds <= 59:\n",
    "    seconds += 1\n",
    "    if seconds == 60:\n",
    "        minutes += 1\n",
    "        if minutes == 60:\n",
    "            hours += 1\n",
    "            if hours <= 23:\n",
    "                hours += 1\n",
    "                if hours == 24:\n",
    "                    hours = 0\n",
    "            minutes = 0     \n",
    "        seconds = 0\n",
    "\n",
    "print(\"hour = \",hours, \" minute = \", minutes, \" seconds = \", seconds) # hour = 23 minute = 0 seconds = 0"
   ]
  },
  {
   "cell_type": "markdown",
   "metadata": {},
   "source": [
    "### Switch - Case\n",
    "\n",
    "- ประเภทบริการ\n",
    "\n",
    "1 ถอนเงิน\n",
    "2 ฝากเงิน\n",
    "3 ยอดเงินคงเหลือ"
   ]
  },
  {
   "cell_type": "code",
   "execution_count": null,
   "metadata": {},
   "outputs": [],
   "source": [
    "\n",
    "service = 4\n",
    "\n",
    "match service:\n",
    "    case 1: print(\"ถอนเงิน\")\n",
    "    case 2: print(\"ฝากเงิน\")\n",
    "    case 3: print(\"ยอดเงินคงเหลือ\")\n",
    "    case _: print(\"ไม่พบประเภทบริการ\") # ไม่พบประเภทบริการ"
   ]
  },
  {
   "cell_type": "markdown",
   "metadata": {},
   "source": [
    "## คำสั่งทำซ้ำ\n",
    "\n",
    "- While loop\n",
    "- For loop"
   ]
  },
  {
   "cell_type": "markdown",
   "metadata": {},
   "source": [
    "### While loop"
   ]
  },
  {
   "cell_type": "code",
   "execution_count": null,
   "metadata": {},
   "outputs": [],
   "source": [
    "seconds = 0\n",
    "\n",
    "while seconds <= 59:\n",
    "    print(\"seconds = \", seconds)\n",
    "    seconds+=1\n"
   ]
  },
  {
   "cell_type": "markdown",
   "metadata": {},
   "source": [
    "- ผลลัพธ์\n",
    "\n",
    "```\n",
    "seconds =  0\n",
    "seconds =  1\n",
    "seconds =  2\n",
    "seconds =  3\n",
    "seconds =  4\n",
    "seconds =  5\n",
    "seconds =  6\n",
    "seconds =  7\n",
    "seconds =  8\n",
    "seconds =  9\n",
    "seconds =  10\n",
    "seconds =  11\n",
    "seconds =  12\n",
    "seconds =  13\n",
    "seconds =  14\n",
    "seconds =  15\n",
    "seconds =  16\n",
    "seconds =  17\n",
    "seconds =  18\n",
    "seconds =  19\n",
    "seconds =  20\n",
    "seconds =  21\n",
    "seconds =  22\n",
    "seconds =  23\n",
    "seconds =  24\n",
    "seconds =  25\n",
    "seconds =  26\n",
    "seconds =  27\n",
    "seconds =  28\n",
    "seconds =  29\n",
    "seconds =  30\n",
    "seconds =  31\n",
    "seconds =  32\n",
    "seconds =  33\n",
    "seconds =  34\n",
    "seconds =  35\n",
    "seconds =  36\n",
    "seconds =  37\n",
    "seconds =  38\n",
    "seconds =  39\n",
    "seconds =  40\n",
    "seconds =  41\n",
    "seconds =  42\n",
    "seconds =  43\n",
    "seconds =  44\n",
    "seconds =  45\n",
    "seconds =  46\n",
    "seconds =  47\n",
    "seconds =  48\n",
    "seconds =  49\n",
    "seconds =  50\n",
    "seconds =  51\n",
    "seconds =  52\n",
    "seconds =  53\n",
    "seconds =  54\n",
    "seconds =  55\n",
    "seconds =  56\n",
    "seconds =  57\n",
    "seconds =  58\n",
    "seconds =  59\n",
    "```"
   ]
  },
  {
   "cell_type": "markdown",
   "metadata": {},
   "source": [
    "### For loop\n",
    "\n",
    "คำสั่ง for จะทำตามช่วงของจำนวนโดยอาศัยคำสั่ง range\n",
    "\n",
    "- range(60) จะได้ช่วง 0 ถึง 59\n",
    "- range(0, 60) จะได้ช่วง 0 ถึง 59\n",
    "- range(1, 60) จะได้ช่วง 1 ถึง 59\n",
    "- range(0, 60, 1) จะได้ช่วง 0 ถึง 59 โดยเพิ่มทีละ 1\n",
    "- range(0, 60, 2) จะได้ช่วง 0 ถึง 58 โดยเพิ่มทีละ 2 ที่ไม่ได้ 59 เพราะเมื่อ seconds = 57 แล้ว 57 + 2 มันจะต้องน้อยกว่า 59 ถึงจะทำงานต่อได้ แต่ในกรณีนี้ได้ 59 พอดี"
   ]
  },
  {
   "cell_type": "code",
   "execution_count": 13,
   "metadata": {},
   "outputs": [
    {
     "name": "stdout",
     "output_type": "stream",
     "text": [
      "seconds =  0\n",
      "seconds =  1\n",
      "seconds =  2\n",
      "seconds =  3\n",
      "seconds =  4\n",
      "seconds =  5\n",
      "seconds =  6\n",
      "seconds =  7\n",
      "seconds =  8\n",
      "seconds =  9\n",
      "seconds =  10\n",
      "seconds =  11\n",
      "seconds =  12\n",
      "seconds =  13\n",
      "seconds =  14\n",
      "seconds =  15\n",
      "seconds =  16\n",
      "seconds =  17\n",
      "seconds =  18\n",
      "seconds =  19\n",
      "seconds =  20\n",
      "seconds =  21\n",
      "seconds =  22\n",
      "seconds =  23\n",
      "seconds =  24\n",
      "seconds =  25\n",
      "seconds =  26\n",
      "seconds =  27\n",
      "seconds =  28\n",
      "seconds =  29\n",
      "seconds =  30\n",
      "seconds =  31\n",
      "seconds =  32\n",
      "seconds =  33\n",
      "seconds =  34\n",
      "seconds =  35\n",
      "seconds =  36\n",
      "seconds =  37\n",
      "seconds =  38\n",
      "seconds =  39\n",
      "seconds =  40\n",
      "seconds =  41\n",
      "seconds =  42\n",
      "seconds =  43\n",
      "seconds =  44\n",
      "seconds =  45\n",
      "seconds =  46\n",
      "seconds =  47\n",
      "seconds =  48\n",
      "seconds =  49\n",
      "seconds =  50\n",
      "seconds =  51\n",
      "seconds =  52\n",
      "seconds =  53\n",
      "seconds =  54\n",
      "seconds =  55\n",
      "seconds =  56\n",
      "seconds =  57\n",
      "seconds =  58\n",
      "seconds =  59\n"
     ]
    }
   ],
   "source": [
    "for seconds in range(0,60,1):\n",
    "    print(\"seconds = \", seconds)"
   ]
  },
  {
   "cell_type": "markdown",
   "metadata": {},
   "source": [
    "- ผลลัพธ์\n",
    "\n",
    "```\n",
    "seconds =  0\n",
    "seconds =  1\n",
    "seconds =  2\n",
    "seconds =  3\n",
    "seconds =  4\n",
    "seconds =  5\n",
    "seconds =  6\n",
    "seconds =  7\n",
    "seconds =  8\n",
    "seconds =  9\n",
    "seconds =  10\n",
    "seconds =  11\n",
    "seconds =  12\n",
    "seconds =  13\n",
    "seconds =  14\n",
    "seconds =  15\n",
    "seconds =  16\n",
    "seconds =  17\n",
    "seconds =  18\n",
    "seconds =  19\n",
    "seconds =  20\n",
    "seconds =  21\n",
    "seconds =  22\n",
    "seconds =  23\n",
    "seconds =  24\n",
    "seconds =  25\n",
    "seconds =  26\n",
    "seconds =  27\n",
    "seconds =  28\n",
    "seconds =  29\n",
    "seconds =  30\n",
    "seconds =  31\n",
    "seconds =  32\n",
    "seconds =  33\n",
    "seconds =  34\n",
    "seconds =  35\n",
    "seconds =  36\n",
    "seconds =  37\n",
    "seconds =  38\n",
    "seconds =  39\n",
    "seconds =  40\n",
    "seconds =  41\n",
    "seconds =  42\n",
    "seconds =  43\n",
    "seconds =  44\n",
    "seconds =  45\n",
    "seconds =  46\n",
    "seconds =  47\n",
    "seconds =  48\n",
    "seconds =  49\n",
    "seconds =  50\n",
    "seconds =  51\n",
    "seconds =  52\n",
    "seconds =  53\n",
    "seconds =  54\n",
    "seconds =  55\n",
    "seconds =  56\n",
    "seconds =  57\n",
    "seconds =  58\n",
    "seconds =  59\n",
    "```"
   ]
  },
  {
   "cell_type": "markdown",
   "metadata": {},
   "source": [
    "## โจทย์ 1\n",
    "\n",
    "- เขียนแสดงแม่สูตรคูณ แม่ 2 เช่น 2x1=2 ไปจนถึง 2x12=24\n",
    "\n",
    "## โจทย์ 2\n",
    "\n",
    "- หาผลรวมตั้งแต่ 1 ถึง 10 โดยใช้คำสั่ง Loop"
   ]
  },
  {
   "cell_type": "markdown",
   "metadata": {},
   "source": [
    "### Nested For"
   ]
  },
  {
   "cell_type": "code",
   "execution_count": null,
   "metadata": {},
   "outputs": [],
   "source": [
    "# Nested for\n",
    "\n",
    "for i in range(1,13):\n",
    "    print(\"สูตรคูณแม่ \",i)\n",
    "    for j in range(1,13):\n",
    "        print(i,\"x\",j,\"=\",i*j)\n",
    "    print(\"\")"
   ]
  },
  {
   "cell_type": "markdown",
   "metadata": {},
   "source": [
    "- ผลลัพธ์\n",
    "\n",
    "```\n",
    "สูตรคูณแม่  1\n",
    "1 x 1 = 1\n",
    "1 x 2 = 2\n",
    "1 x 3 = 3\n",
    "1 x 4 = 4\n",
    "1 x 5 = 5\n",
    "1 x 6 = 6\n",
    "1 x 7 = 7\n",
    "1 x 8 = 8\n",
    "1 x 9 = 9\n",
    "1 x 10 = 10\n",
    "1 x 11 = 11\n",
    "1 x 12 = 12\n",
    "\n",
    "สูตรคูณแม่  2\n",
    "2 x 1 = 2\n",
    "2 x 2 = 4\n",
    "2 x 3 = 6\n",
    "2 x 4 = 8\n",
    "2 x 5 = 10\n",
    "2 x 6 = 12\n",
    "2 x 7 = 14\n",
    "2 x 8 = 16\n",
    "2 x 9 = 18\n",
    "2 x 10 = 20\n",
    "2 x 11 = 22\n",
    "2 x 12 = 24\n",
    "\n",
    "สูตรคูณแม่  3\n",
    "3 x 1 = 3\n",
    "3 x 2 = 6\n",
    "3 x 3 = 9\n",
    "3 x 4 = 12\n",
    "3 x 5 = 15\n",
    "3 x 6 = 18\n",
    "3 x 7 = 21\n",
    "3 x 8 = 24\n",
    "3 x 9 = 27\n",
    "3 x 10 = 30\n",
    "3 x 11 = 33\n",
    "3 x 12 = 36\n",
    "\n",
    "สูตรคูณแม่  4\n",
    "4 x 1 = 4\n",
    "4 x 2 = 8\n",
    "4 x 3 = 12\n",
    "4 x 4 = 16\n",
    "4 x 5 = 20\n",
    "4 x 6 = 24\n",
    "4 x 7 = 28\n",
    "4 x 8 = 32\n",
    "4 x 9 = 36\n",
    "4 x 10 = 40\n",
    "4 x 11 = 44\n",
    "4 x 12 = 48\n",
    "\n",
    "สูตรคูณแม่  5\n",
    "5 x 1 = 5\n",
    "5 x 2 = 10\n",
    "5 x 3 = 15\n",
    "5 x 4 = 20\n",
    "5 x 5 = 25\n",
    "5 x 6 = 30\n",
    "5 x 7 = 35\n",
    "5 x 8 = 40\n",
    "5 x 9 = 45\n",
    "5 x 10 = 50\n",
    "5 x 11 = 55\n",
    "5 x 12 = 60\n",
    "\n",
    "สูตรคูณแม่  6\n",
    "6 x 1 = 6\n",
    "6 x 2 = 12\n",
    "6 x 3 = 18\n",
    "6 x 4 = 24\n",
    "6 x 5 = 30\n",
    "6 x 6 = 36\n",
    "6 x 7 = 42\n",
    "6 x 8 = 48\n",
    "6 x 9 = 54\n",
    "6 x 10 = 60\n",
    "6 x 11 = 66\n",
    "6 x 12 = 72\n",
    "\n",
    "สูตรคูณแม่  7\n",
    "7 x 1 = 7\n",
    "7 x 2 = 14\n",
    "7 x 3 = 21\n",
    "7 x 4 = 28\n",
    "7 x 5 = 35\n",
    "7 x 6 = 42\n",
    "7 x 7 = 49\n",
    "7 x 8 = 56\n",
    "7 x 9 = 63\n",
    "7 x 10 = 70\n",
    "7 x 11 = 77\n",
    "7 x 12 = 84\n",
    "\n",
    "สูตรคูณแม่  8\n",
    "8 x 1 = 8\n",
    "8 x 2 = 16\n",
    "8 x 3 = 24\n",
    "8 x 4 = 32\n",
    "8 x 5 = 40\n",
    "8 x 6 = 48\n",
    "8 x 7 = 56\n",
    "8 x 8 = 64\n",
    "8 x 9 = 72\n",
    "8 x 10 = 80\n",
    "8 x 11 = 88\n",
    "8 x 12 = 96\n",
    "\n",
    "สูตรคูณแม่  9\n",
    "9 x 1 = 9\n",
    "9 x 2 = 18\n",
    "9 x 3 = 27\n",
    "9 x 4 = 36\n",
    "9 x 5 = 45\n",
    "9 x 6 = 54\n",
    "9 x 7 = 63\n",
    "9 x 8 = 72\n",
    "9 x 9 = 81\n",
    "9 x 10 = 90\n",
    "9 x 11 = 99\n",
    "9 x 12 = 108\n",
    "\n",
    "สูตรคูณแม่  10\n",
    "10 x 1 = 10\n",
    "10 x 2 = 20\n",
    "10 x 3 = 30\n",
    "10 x 4 = 40\n",
    "10 x 5 = 50\n",
    "10 x 6 = 60\n",
    "10 x 7 = 70\n",
    "10 x 8 = 80\n",
    "10 x 9 = 90\n",
    "10 x 10 = 100\n",
    "10 x 11 = 110\n",
    "10 x 12 = 120\n",
    "\n",
    "สูตรคูณแม่  11\n",
    "11 x 1 = 11\n",
    "11 x 2 = 22\n",
    "11 x 3 = 33\n",
    "11 x 4 = 44\n",
    "11 x 5 = 55\n",
    "11 x 6 = 66\n",
    "11 x 7 = 77\n",
    "11 x 8 = 88\n",
    "11 x 9 = 99\n",
    "11 x 10 = 110\n",
    "11 x 11 = 121\n",
    "11 x 12 = 132\n",
    "\n",
    "สูตรคูณแม่  12\n",
    "12 x 1 = 12\n",
    "12 x 2 = 24\n",
    "12 x 3 = 36\n",
    "12 x 4 = 48\n",
    "12 x 5 = 60\n",
    "12 x 6 = 72\n",
    "12 x 7 = 84\n",
    "12 x 8 = 96\n",
    "12 x 9 = 108\n",
    "12 x 10 = 120\n",
    "12 x 11 = 132\n",
    "12 x 12 = 144\n",
    "```"
   ]
  },
  {
   "cell_type": "markdown",
   "metadata": {},
   "source": [
    "## String\n",
    "\n",
    "String หรือ ข้อความ จะอยู่ในรูปของตัวอักษรหลายๆตัวเรียงต่อกันโดยเริ่มจากลำดับ 0 จนถึง n-1\n",
    "\n",
    "<table>\n",
    "<tbody>\n",
    "<tr>\n",
    "<td>K</td>\n",
    "<td>r</td>\n",
    "<td>t</td>\n",
    "<td>t</td>\n",
    "<td></td>\n",
    "<td>C</td>\n",
    "<td>h</td>\n",
    "<td>o</td>\n",
    "<td>m</td>\n",
    "<td>a</td>\n",
    "<td>i</td>\n",
    "<td>t</td>\n",
    "<td>o</td>\n",
    "<td>n</td>\n",
    "<td>g</td>\n",
    "</tr>\n",
    "<tr>\n",
    "<td>0</td>\n",
    "<td>1</td>\n",
    "<td>2</td>\n",
    "<td>3</td>\n",
    "<td>4</td>\n",
    "<td>5</td>\n",
    "<td>6</td>\n",
    "<td>7</td>\n",
    "<td>8</td>\n",
    "<td>9</td>\n",
    "<td>10</td>\n",
    "<td>11</td>\n",
    "<td>12</td>\n",
    "<td>13</td>\n",
    "<td>14</td>\n",
    "</tr>\n",
    "<tr>\n",
    "<td>-15</td>\n",
    "<td>-14</td>\n",
    "<td>-13</td>\n",
    "<td>-12</td>\n",
    "<td>-11</td>\n",
    "<td>-10</td>\n",
    "<td>-9</td>\n",
    "<td>-8</td>\n",
    "<td>-7</td>\n",
    "<td>-6</td>\n",
    "<td>-5</td>\n",
    "<td>-4</td>\n",
    "<td>-3</td>\n",
    "<td>-2</td>\n",
    "<td>-1</td>\n",
    "</tr>\n",
    "</tbody>\n",
    "</table>"
   ]
  },
  {
   "cell_type": "code",
   "execution_count": null,
   "metadata": {},
   "outputs": [],
   "source": [
    "full_name = \"Krit Chomaitong\"\n",
    "print(full_name[0]) # K\n",
    "\n",
    "print(full_name[-15]) # K\n",
    "\n",
    "print(full_name[-1]) # g\n",
    "\n",
    "name = full_name[0:4]\n",
    "print(name) # Krit\n",
    "\n",
    "name = full_name[-11:-15]\n",
    "print(name) # ไม่พิมพ์อะไรมาเลย\n",
    "\n",
    "name = full_name[-15:-11]\n",
    "print(name) # Krit\n",
    "\n",
    "name = full_name[:4]\n",
    "print(name) # Krit\n",
    "\n",
    "name = full_name[:-11]\n",
    "print(name) # Krit\n",
    "\n",
    "last_name = full_name[5:]\n",
    "print(last_name) # Chomaitong\n"
   ]
  },
  {
   "cell_type": "code",
   "execution_count": 29,
   "metadata": {},
   "outputs": [
    {
     "name": "stdout",
     "output_type": "stream",
     "text": [
      "\n",
      "111/22\n",
      "ม.ธนสิน\n",
      "แขวงคลองกุ่ม เขตบึงกุ่ม 10240\n",
      "\n",
      "\n",
      "333/33\n",
      "ม.ธนสิน\n",
      "แขวงคลองกุ่ม เขตบึงกุ่ม 10240\n",
      "\n"
     ]
    }
   ],
   "source": [
    "# ถ้าตัวแปร string มีหลายบรรทัด\n",
    "\n",
    "address = \"\"\"\n",
    "111/22\n",
    "ม.ธนสิน\n",
    "แขวงคลองกุ่ม เขตบึงกุ่ม 10240\n",
    "\"\"\"\n",
    "\n",
    "print(address)\n",
    "\n",
    "address2 = '''\n",
    "333/33\n",
    "ม.ธนสิน\n",
    "แขวงคลองกุ่ม เขตบึงกุ่ม 10240\n",
    "'''\n",
    "\n",
    "print(address2)"
   ]
  },
  {
   "cell_type": "markdown",
   "metadata": {},
   "source": [
    "### Format string\n",
    "\n",
    "- จัดรูปแบบข้อความให้ตรงกับ Format ที่เรากำหนด"
   ]
  },
  {
   "cell_type": "code",
   "execution_count": null,
   "metadata": {},
   "outputs": [],
   "source": [
    "txt = \"For only {price:.2f} dollars!\"\n",
    "print(txt.format(price = 50))\n",
    "\n",
    "price = 50\n",
    "txt2 = f\"For only {price:.2f} dollars!\"\n",
    "print(txt2)"
   ]
  },
  {
   "cell_type": "markdown",
   "metadata": {},
   "source": [
    "- คำสั่ง 1\n",
    "```\n",
    "money = 100\n",
    "format_money = f\"{money:.2f}\"\n",
    "print(format_money) # 100.00\n",
    "print(format_money.format(money=200)) # 100.00 ไม่สามารถเปลี่ยนค่าได้เพราะถูก format ไปแล้ว\n",
    "```\n",
    "\n",
    "- คำสั่ง 2\n",
    "```\n",
    "money2 = 200\n",
    "format_money2 = \"{money2:.2f}\"\n",
    "print(format_money2.format(money2 = money2)) # 200.00\n",
    "print(format_money2.format(money2 = 300)) # 300.00\n",
    "```\n",
    "\n",
    "- จะสังเกตุได้ว่าถ้ามีการประกาศ format_money โดยมี `f\"{money:.2f}\"` จะต้องมีการประกาศตัวแปร money ก่อนจะ format และตัวแปร format_money จะไม่สามารถเปลี่ยนค่าทีหลังได้\n",
    "- แต่อีกตัวอย่างนึงจะมีการเรียกใช้ `format_money2.format(money2 = 200)` จะสามารถเปลี่ยนค่าไปได้เรื่อยๆ"
   ]
  },
  {
   "cell_type": "markdown",
   "metadata": {},
   "source": [
    "- มี comma คั่นตัวเลข"
   ]
  },
  {
   "cell_type": "code",
   "execution_count": null,
   "metadata": {},
   "outputs": [],
   "source": [
    "#Use \",\" to add a comma as a thousand separator:\n",
    "\n",
    "txt = \"ฉันมีเงิน {:,} บาท\"\n",
    "\n",
    "print(txt.format(1000000))\n"
   ]
  },
  {
   "cell_type": "markdown",
   "metadata": {},
   "source": [
    "# แปลงฐาน 2 เป็นฐาน 10"
   ]
  },
  {
   "cell_type": "code",
   "execution_count": null,
   "metadata": {},
   "outputs": [],
   "source": [
    "# แปลงเป็น ฐาน 10\n",
    "\n",
    "txt = \"{:d}\"\n",
    "\n",
    "# 0b นำแสดงว่าตัวเลขหลังจากนี้เป็นฐาน 2\n",
    "print(txt.format(0b101)) # 5"
   ]
  },
  {
   "cell_type": "markdown",
   "metadata": {},
   "source": [
    "# แปลงฐาน 10 เป็นฐาน 2"
   ]
  },
  {
   "cell_type": "code",
   "execution_count": null,
   "metadata": {},
   "outputs": [],
   "source": [
    "txt = \"{:b}\"\n",
    "print(txt.format(5)) # 101"
   ]
  },
  {
   "cell_type": "markdown",
   "metadata": {},
   "source": [
    "### การแทนตัวแปรใน format string \n",
    "- โดยจะมีการบอกลำดับที่จะแทนด้วยตำแหน่งที่ปรากฎ โดยเริ่มจาก 0 เช่น {0} จะหมายถึงตัวแปรที่จะมาแทนเป็นตัวแรก\n",
    "- ถ้าไม่มีการระบุตำแหน่ง ก็จะยึดตำแหน่งแรกแทนตัวแปรตัวแรก เช่น {} "
   ]
  },
  {
   "cell_type": "code",
   "execution_count": null,
   "metadata": {},
   "outputs": [],
   "source": [
    "words = \"คุณมีไก่ {0} {1}\".format(2, \"ตัว\")\n",
    "print(words) # คุณมีไก่ 2 ตัว\n",
    "\n",
    "words = \"คุณมีไก่ {} {}\".format(2, \"ตัว\")\n",
    "print(words) # คุณมีไก่ 2 ตัว"
   ]
  },
  {
   "cell_type": "markdown",
   "metadata": {},
   "source": [
    "### การเช็คคำขึ้นต้น"
   ]
  },
  {
   "cell_type": "code",
   "execution_count": null,
   "metadata": {},
   "outputs": [],
   "source": [
    "name = \"นายเจมส์ บอนด์\"\n",
    "\n",
    "if name.startswith(\"นาย\"):\n",
    "    print(\"เป็นผู้ชาย\") # เป็นผู้ชาย\n",
    "else:\n",
    "    print(\"เป็นผู้หญิง\")\n",
    "\n",
    "name = \"นางคิล บิล\"\n",
    "\n",
    "if name.startswith(\"นาย\"):\n",
    "    print(\"เป็นผู้ชาย\")\n",
    "else:\n",
    "    print(\"เป็นผู้หญิง\") # เป็นผู้หญิง"
   ]
  },
  {
   "cell_type": "markdown",
   "metadata": {},
   "source": [
    "### การเช็คคำลงท้าย"
   ]
  },
  {
   "cell_type": "code",
   "execution_count": null,
   "metadata": {},
   "outputs": [],
   "source": [
    "month = \"มกราคม\"\n",
    "\n",
    "if month.endswith(\"คม\"):\n",
    "    print(\"มี 31 วัน\")\n",
    "elif month.endswith(\"ยน\"):\n",
    "    print(\"มี 30 วัน\")\n",
    "elif month.endswith(\"พันธ์\"):\n",
    "    print(\"มี 28-29 วัน\")\n",
    "else:\n",
    "    print(\"ไม่รู้จัก\")"
   ]
  },
  {
   "cell_type": "markdown",
   "metadata": {},
   "source": [
    "### การค้นหาคำในข้อความ \n",
    "\n",
    "- คำสั่ง find จะบอกตำแหน่งของตัวอักษร โดยตำแหน่งตัวอักษรเริ่มที่ 0 แต่ถ้าไม่เจอก็จะคืนค่าเป็น -1"
   ]
  },
  {
   "cell_type": "code",
   "execution_count": null,
   "metadata": {},
   "outputs": [],
   "source": [
    "words = \"คุณถูกรางวัลที่ 1\"\n",
    "\n",
    "print(words.find(\"รางวัล\")) # 6\n",
    "\n",
    "print(words.find(\"2\")) # -1"
   ]
  },
  {
   "cell_type": "markdown",
   "metadata": {},
   "source": [
    "### นับจำนวนคำในประโยค"
   ]
  },
  {
   "cell_type": "code",
   "execution_count": null,
   "metadata": {},
   "outputs": [],
   "source": [
    "words = \"ไก่ จิก เด็ก ตาย\"\n",
    "print(words.count(\" \")) # อักขระว่าง 3 ตัว\n",
    "words = \"คนหนึ่งคน\"\n",
    "print(words.count(\"คน\")) # 2"
   ]
  },
  {
   "cell_type": "markdown",
   "metadata": {},
   "source": [
    "### การแทนที่คำในประโยค"
   ]
  },
  {
   "cell_type": "code",
   "execution_count": null,
   "metadata": {},
   "outputs": [],
   "source": [
    "words = \"ไก่ x ตัว\"\n",
    "print(words) # ไก่ x ตัว\n",
    "print(words.replace(\"x\", \"2\")) # ไก่ 2 ตัว"
   ]
  },
  {
   "cell_type": "markdown",
   "metadata": {},
   "source": [
    "### การนับจำนวนตัวอักษรในข้อความหรือประโยค"
   ]
  },
  {
   "cell_type": "code",
   "execution_count": null,
   "metadata": {},
   "outputs": [],
   "source": [
    "words=\"1,2,3,4\"\n",
    "print(len(words)) # 7  "
   ]
  }
 ],
 "metadata": {
  "kernelspec": {
   "display_name": "Python 3",
   "language": "python",
   "name": "python3"
  },
  "language_info": {
   "codemirror_mode": {
    "name": "ipython",
    "version": 3
   },
   "file_extension": ".py",
   "mimetype": "text/x-python",
   "name": "python",
   "nbconvert_exporter": "python",
   "pygments_lexer": "ipython3",
   "version": "3.13.1"
  }
 },
 "nbformat": 4,
 "nbformat_minor": 2
}
