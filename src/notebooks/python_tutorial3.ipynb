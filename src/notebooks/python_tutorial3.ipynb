{
 "cells": [
  {
   "cell_type": "markdown",
   "metadata": {},
   "source": [
    "---\n",
    "title: Tutorial 3\n",
    "lastUpdated: 2025-02-04\n",
    "---\n",
    "\n",
    "# Python3 Tutorial (3)\n"
   ]
  },
  {
   "cell_type": "markdown",
   "metadata": {},
   "source": [
    "## ข้อมูลแบบอ้างอิง (Non-Primitive Data Type หรือ Reference Date Types)\n",
    "\n",
    "- List\n",
    "- Tuple\n",
    "- Set\n",
    "- Dictionary"
   ]
  },
  {
   "cell_type": "markdown",
   "metadata": {},
   "source": [
    "## List\n",
    "\n",
    "### แบบ 1"
   ]
  },
  {
   "cell_type": "code",
   "execution_count": null,
   "metadata": {},
   "outputs": [],
   "source": [
    "# List แบบ 1\n",
    "\n",
    "a = [] # สร้าง List เปล่า\n",
    "a = [1,2,3,4]\n"
   ]
  },
  {
   "cell_type": "markdown",
   "metadata": {},
   "source": [
    "### แบบ 2"
   ]
  },
  {
   "cell_type": "code",
   "execution_count": 5,
   "metadata": {},
   "outputs": [],
   "source": [
    "a = list() # สร้าง List เปล่่า\n",
    "a= list((1,2,3,4))"
   ]
  },
  {
   "cell_type": "markdown",
   "metadata": {},
   "source": [
    "### จำนวนสมาชิกใน List"
   ]
  },
  {
   "cell_type": "code",
   "execution_count": null,
   "metadata": {},
   "outputs": [],
   "source": [
    "a = [1,2,3,4]\n",
    "print(len(a)) # 4\n",
    "\n",
    "b = list((1,2,3))\n",
    "print(len(b))"
   ]
  },
  {
   "cell_type": "markdown",
   "metadata": {},
   "source": [
    "### การรวม List"
   ]
  },
  {
   "cell_type": "code",
   "execution_count": null,
   "metadata": {},
   "outputs": [],
   "source": [
    "# ตัวอย่าง 1\n",
    "a = [1,2,3]\n",
    "b = [4,5,6]\n",
    "c = a + b\n",
    "\n",
    "print(c) # [1,2,3,4,5,6]\n"
   ]
  },
  {
   "cell_type": "code",
   "execution_count": null,
   "metadata": {},
   "outputs": [],
   "source": [
    "# ตัวอย่าง 2\n",
    "d = list((7,8,9))\n",
    "e = d + c\n",
    "print(e) # [7,8,9,1,2,3,4,5,6]"
   ]
  },
  {
   "cell_type": "markdown",
   "metadata": {},
   "source": [
    "### การอ้างอิงตำแหน่งใน List\n",
    "\n",
    "|list|7|8|9|1|2|3|4|5|6|\n",
    "|:-:|:-:|:-:|:-:|:-:|:-:|:-:|:-:|:-:|:-:|\n",
    "|ลำดับ|0|1|2|3|4|5|6|7|8|\n",
    "|ลำดับ|-9|-8|-7|-6|-5|-4|-3|-2|-1|"
   ]
  },
  {
   "cell_type": "code",
   "execution_count": null,
   "metadata": {},
   "outputs": [],
   "source": [
    "e = [7,8,9,1,2,3,4,5,6]\n",
    "print(e[0]) # 7\n",
    "print(e[-9]) # 7\n",
    "\n",
    "\n",
    "print(e[0:]) # [7,8,9,1,2,3,4,5,6]\n",
    "print(e[:1]) # [7]\n",
    "print(e[1:2]) # [8]\n",
    "print(e[1:3]) # [8,9]\n",
    "\n",
    "print(e[:-3]) # [7,8,9,1,2,3]"
   ]
  },
  {
   "cell_type": "markdown",
   "metadata": {},
   "source": [
    "### ฟังก์ชั่นของ List\n",
    "\n",
    "|ชื่อฟังก์ชั่น|คำอธิบาย|\n",
    "|:-:|:-:|\n",
    "|append(element)|เพิ่มสมาชิกต่อท้ายทีละอัน|\n",
    "|extend([element])|เพิ่มสมาชิกต่อท้ายทีละหลายๆอัน|\n",
    "|insert(index, element)|แทรกสมาชิกลงไปใน List ตาม Index ที่กำหนด|\n",
    "|clear()|ลบสมาชิกทั้งหมดออกจาก List|"
   ]
  },
  {
   "cell_type": "code",
   "execution_count": null,
   "metadata": {},
   "outputs": [],
   "source": [
    "name = ['K']\n",
    "name.append('R')\n",
    "print(name) # ['K','R']\n",
    "\n",
    "name.extend([' ','C','H'])\n",
    "print(name) # ['K', 'R', ' ', 'C', 'H']\n",
    "\n",
    "name.insert(2,'I')\n",
    "print(name) # ['K', 'R', 'I', ' ', 'C', 'H']\n",
    "\n",
    "name.insert(3, 'T')\n",
    "print(name) # ['K', 'R', 'I', 'T', ' ', 'C', 'H']\n",
    "\n",
    "name.insert(-1, 'O')\n",
    "print(name) # ['K', 'R', 'I', 'T', ' ', 'C', 'O', 'H']\n",
    "\n",
    "name.clear()\n",
    "print(name) # []\n"
   ]
  },
  {
   "cell_type": "markdown",
   "metadata": {},
   "source": [
    "### ฟังก์ชั่นของ List (2)\n",
    "\n",
    "|ชื่อฟังก์ชั่น|คำอธิบาย|\n",
    "|:-:|:-:|\n",
    "|remove(element)|ลบสมาชิกที่ระบุออกจาก List|\n",
    "|count(element)|นับจำนวนสมาชิกที่ซ้ำกัน|\n",
    "|sort()|เรียงลำดับสมาชิก|\n",
    "|reverse()|เรียงลำดับสมาชิกย้อนกลับ|"
   ]
  },
  {
   "cell_type": "code",
   "execution_count": null,
   "metadata": {},
   "outputs": [],
   "source": [
    "a = [1,2,1]\n",
    "\n",
    "print(a.count(1)) # 2\n",
    "\n",
    "a = [5,3,3,4,2,1]\n",
    "a.remove(3)\n",
    "\n",
    "print(a) # [5,3,4,2,1]\n",
    "\n",
    "a.sort()\n",
    "print(a) # [1,2,3,4,5]\n",
    "\n",
    "a.reverse()\n",
    "print(a) # [5,4,3,2,1]"
   ]
  },
  {
   "cell_type": "markdown",
   "metadata": {},
   "source": [
    "## Tuple\n",
    "\n",
    "- ใน Tuple มีค่า Value และจะมีค่า Index เป็นตัวบอกลำดับ\n",
    "- Tuple เมื่อถูกสร้างแล้วจะเปลี่ยนแปลงค่าไม่ได้\n"
   ]
  },
  {
   "cell_type": "code",
   "execution_count": null,
   "metadata": {},
   "outputs": [],
   "source": [
    "a = (1,2,3)\n",
    "print(a[0]) # 1\n",
    "\n",
    "a[0] = 0 # จะ Error เมื่อมีการแก้ไขค่า\n",
    "print(a) "
   ]
  },
  {
   "cell_type": "markdown",
   "metadata": {},
   "source": [
    "### Tuple แบบ 1"
   ]
  },
  {
   "cell_type": "code",
   "execution_count": null,
   "metadata": {},
   "outputs": [],
   "source": [
    "# แบบ 1\n",
    "a = ()\n",
    "print(a) # ()\n",
    "\n",
    "a = (1,2,3)\n",
    "print(a) # (1,2,3)"
   ]
  },
  {
   "cell_type": "markdown",
   "metadata": {},
   "source": [
    "### Tuple แบบ 2"
   ]
  },
  {
   "cell_type": "code",
   "execution_count": null,
   "metadata": {},
   "outputs": [],
   "source": [
    "a = tuple((1,2))\n",
    "\n",
    "print(a) # (1,2)"
   ]
  },
  {
   "cell_type": "markdown",
   "metadata": {},
   "source": [
    "### นับจำนวนใน Tuple"
   ]
  },
  {
   "cell_type": "code",
   "execution_count": null,
   "metadata": {},
   "outputs": [],
   "source": [
    "a = tuple((1,2))\n",
    "print(len(a)) # 2"
   ]
  },
  {
   "cell_type": "markdown",
   "metadata": {},
   "source": [
    "### การรวม Tuple"
   ]
  },
  {
   "cell_type": "code",
   "execution_count": null,
   "metadata": {},
   "outputs": [],
   "source": [
    "a = tuple((1,2))\n",
    "b = tuple((3,4))\n",
    "\n",
    "c = a + b\n",
    "print(c) # (1,2,3,4)"
   ]
  },
  {
   "cell_type": "markdown",
   "metadata": {},
   "source": [
    "### การคูณ Tuple (การทำซ้ำ)"
   ]
  },
  {
   "cell_type": "code",
   "execution_count": null,
   "metadata": {},
   "outputs": [],
   "source": [
    "a = tuple((1,2))\n",
    "\n",
    "b = a * 2\n",
    "\n",
    "print(b) # (1,2,1,2)\n",
    "\n",
    "a = [1,2]\n",
    "b = a * 2 \n",
    "\n",
    "print(b) # [1,2,1,2]"
   ]
  },
  {
   "cell_type": "markdown",
   "metadata": {},
   "source": [
    "### การกระจายตัวแปร"
   ]
  },
  {
   "cell_type": "code",
   "execution_count": null,
   "metadata": {},
   "outputs": [],
   "source": [
    "red,green,blue = (\"red\",\"green\",\"blue\")\n",
    "\n",
    "print(red, green, blue) # red, green, blue"
   ]
  },
  {
   "cell_type": "markdown",
   "metadata": {},
   "source": [
    "### การเข้าถึง Tuple\n",
    "\n",
    "\n",
    "|tuple|1|2|3|4\n",
    "|:-:|:-:|:-:|:-:|:-:|\n",
    "|index|0|1|2|3\n",
    "|index|-4|-3|-2|-1|"
   ]
  },
  {
   "cell_type": "code",
   "execution_count": null,
   "metadata": {},
   "outputs": [],
   "source": [
    "a = (1,2,3)\n",
    "\n",
    "print(a[0:]) # (1,2,3)\n",
    "\n",
    "print(a[:1]) # (1,)\n",
    "\n",
    "print(a[1:2]) # (2,)\n",
    "\n",
    "print(a[1:2][0]) # 2\n",
    "\n",
    "for i in a:\n",
    "    print(i) \n",
    "\n",
    "# 1\n",
    "# 2\n",
    "# 3"
   ]
  },
  {
   "cell_type": "markdown",
   "metadata": {},
   "source": [
    "### ฟังก์ชั่นใน Tuple\n",
    "\n",
    "|คำสั่ง|คำอธิบาย|\n",
    "|:-:|:-:|\n",
    "|count(element)|นับจำนวนสมาชิกที่มีซ้ำกัน|\n",
    "|index(element)|ตรวจสอบลำดับสมาชิกใน Tuple|\n"
   ]
  },
  {
   "cell_type": "code",
   "execution_count": null,
   "metadata": {},
   "outputs": [],
   "source": [
    "a = (1,2,1,3)\n",
    "\n",
    "print(a.count(1)) # 2\n",
    "\n",
    "print(a.index(1)) # 0\n",
    "\n",
    "print(a.index(0)) # Error"
   ]
  },
  {
   "cell_type": "markdown",
   "metadata": {},
   "source": [
    "## Set\n",
    "\n",
    "- Set จะอยู่ในรูปของปีกกา {}\n",
    "- Set จะไม่ซ้ำกัน\n",
    "- Set จะไม่สามารถเปลี่ยนแปลงค่าได้"
   ]
  },
  {
   "cell_type": "markdown",
   "metadata": {},
   "source": [
    "### แบบที่ 1"
   ]
  },
  {
   "cell_type": "code",
   "execution_count": null,
   "metadata": {},
   "outputs": [],
   "source": [
    "a = {}\n",
    "print(a) # {}\n",
    "\n",
    "a = {1,1}\n",
    "print(a) # {1}\n",
    "\n",
    "a[0] = 0 # Error"
   ]
  },
  {
   "cell_type": "markdown",
   "metadata": {},
   "source": [
    "### แบบที่ 2"
   ]
  },
  {
   "cell_type": "code",
   "execution_count": null,
   "metadata": {},
   "outputs": [],
   "source": [
    "a = set({1,2,3})\n",
    "print(a) # {1,2,3}\n",
    "\n",
    "a = set((1,2,3))\n",
    "print(a) # {1,2,3}\n",
    "\n",
    "a = set((1,1,2,2,3))\n",
    "print(a) # {1,2,3}"
   ]
  },
  {
   "cell_type": "markdown",
   "metadata": {},
   "source": [
    "### การนับจำนวนของ Set"
   ]
  },
  {
   "cell_type": "code",
   "execution_count": null,
   "metadata": {},
   "outputs": [],
   "source": [
    "a = set({1,2,3})\n",
    "print(len(a)) # 3"
   ]
  },
  {
   "cell_type": "markdown",
   "metadata": {},
   "source": [
    "### การวนค่าใน Set"
   ]
  },
  {
   "cell_type": "code",
   "execution_count": null,
   "metadata": {},
   "outputs": [],
   "source": [
    "a = set((1,2,3))\n",
    "\n",
    "for i in a:\n",
    "    print(i)\n",
    "\n",
    "# 1\n",
    "# 2\n",
    "# 3"
   ]
  },
  {
   "cell_type": "markdown",
   "metadata": {},
   "source": [
    "### การค้นหาค่าใน Set"
   ]
  },
  {
   "cell_type": "code",
   "execution_count": null,
   "metadata": {},
   "outputs": [],
   "source": [
    "a = set((1,2,3))\n",
    "\n",
    "if 1 in a:\n",
    "    print(\"1 in a\") # 1 in a\n",
    "else:\n",
    "    print(\"1 not in a\")"
   ]
  },
  {
   "cell_type": "markdown",
   "metadata": {},
   "source": [
    "### ฟังก์ชั่นจัดการ Set\n",
    "\n",
    "|ฟังก์ชั่น|คำอธิบาย|\n",
    "|:-:|:-:|\n",
    "|add(element)|เพิ่มสมาชิก 1 รายการ|\n",
    "|update((element))|เพิ่มสมาชิกหลายรายการ|\n",
    "|discard(element)|ลบสมาชิกที่มีอยู่ออกจาก set|"
   ]
  },
  {
   "cell_type": "code",
   "execution_count": null,
   "metadata": {},
   "outputs": [],
   "source": [
    "a = {1,2,3}\n",
    "a.add(4)\n",
    "print(a) # {1,2,3,4}\n",
    "a.update((5,6)) \n",
    "print(a) # {1,2,3,4,5,6}\n",
    "a.discard(1)\n",
    "print(a) # {2,3,4,5,6}"
   ]
  },
  {
   "cell_type": "markdown",
   "metadata": {},
   "source": [
    "### ฟังก์ชั่นจัดการ Set (2)\n",
    "\n",
    "|ฟังก์ชั่น|คำอธิบาย|\n",
    "|:-:|:-:|\n",
    "|union(set(element))|รวมสมาชิกใน Set A และ B เข้าด้วยกัน|\n",
    "|intersection(set(element))|สมาชิกใน Set A และ B ที่มีร่วมกัน|\n",
    "|difference(set(element))|สมาชิกที่มีอยู่ใน Set A แต่ไม่อยู่ใน B|"
   ]
  },
  {
   "cell_type": "code",
   "execution_count": null,
   "metadata": {},
   "outputs": [],
   "source": [
    "a = {1,2}\n",
    "b = {1,2,3}\n",
    "c = a.union(b)\n",
    "print(c) # {1,2,3}\n",
    "\n",
    "b = {1,2,3}\n",
    "c = a.intersection(b)\n",
    "print(c) # {1,2}\n",
    "\n",
    "c = a.difference(b)\n",
    "print(c) # set()\n",
    "\n",
    "c = b.difference(a) \n",
    "print(c) # {3}"
   ]
  },
  {
   "cell_type": "markdown",
   "metadata": {},
   "source": [
    "## Dictionary\n",
    "\n",
    "- มีลักษณะการเป็นเป็น Key - Value เช่น {\"key\": value}"
   ]
  },
  {
   "cell_type": "code",
   "execution_count": null,
   "metadata": {},
   "outputs": [],
   "source": [
    "colors = {\"r\":\"red\",\"g\":\"green\",\"b\":\"blue\"}\n",
    "print(colors) # {'r': 'red', 'g': 'green', 'b': 'blue'}\n",
    "\n",
    "print(colors[\"r\"]) # red\n",
    "\n",
    "colors[\"r\"] = \"Red\"\n",
    "print(colors[\"r\"]) # Red\n",
    "\n",
    "colors[\"y\"] = \"Yellow\"\n",
    "print(colors) # {'r': 'Red', 'g': 'green', 'b': 'blue', 'y': 'Yellow'}\n"
   ]
  },
  {
   "cell_type": "markdown",
   "metadata": {},
   "source": [
    "### การนับจำนวนใน Dictionary"
   ]
  },
  {
   "cell_type": "code",
   "execution_count": null,
   "metadata": {},
   "outputs": [],
   "source": [
    "colors = {'r': 'Red', 'g': 'green', 'b': 'blue', 'y': 'Yellow'}\n",
    "print(len(colors)) # 4"
   ]
  },
  {
   "cell_type": "markdown",
   "metadata": {},
   "source": [
    "### ฟังก์ชั่นใน Dictionary\n",
    "\n",
    "|คำสั่ง|คำอธิบาย|\n",
    "|:-:|:-:|\n",
    "|keys()|keys ทั้งหมดใน Dictionary|\n",
    "|values()|values ทั้งหมดใน Dictionary|\n",
    "|get(key)|ดึงข้อมูลใน Dictionary ตาม Key ที่ระบุ|\n",
    "|items()|ดึงข้อมูล Keys และ Values ทั้งหมด|"
   ]
  },
  {
   "cell_type": "code",
   "execution_count": null,
   "metadata": {},
   "outputs": [],
   "source": [
    "colors = {'r': 'Red', 'g': 'green', 'b': 'blue', 'y': 'Yellow'}\n",
    "\n",
    "print(colors.keys()) # dict_keys(['r', 'g', 'b', 'y'])\n",
    "\n",
    "print(colors.values()) # dict_values(['Red', 'green', 'blue', 'Yellow'])\n",
    "\n",
    "print(colors.get('r')) # Red\n",
    "\n",
    "print(colors.items()) # dict_items([('r', 'Red'), ('g', 'green'), ('b', 'blue'), ('y', 'Yellow')])\n",
    "\n",
    "for key in colors.keys():\n",
    "    print(key)\n",
    "# r\n",
    "# g\n",
    "# b\n",
    "# y\n",
    "for value in colors.values():\n",
    "    print(value)\n",
    "\n",
    "# Red\n",
    "# green\n",
    "# blue\n",
    "# Yellow\n",
    "for color in colors.items():\n",
    "    print(color)\n",
    "\n",
    "\n",
    "# ('r', 'Red')\n",
    "# ('g', 'green')\n",
    "# ('b', 'blue')\n",
    "# ('y', 'Yellow')\n",
    "\n",
    "for key,value in colors.items():\n",
    "    print(key,\" = \", value)\n",
    "\n",
    "# r  =  Red\n",
    "# g  =  green\n",
    "# b  =  blue\n",
    "# y  =  Yellow"
   ]
  },
  {
   "cell_type": "markdown",
   "metadata": {},
   "source": [
    "### ฟังก์ชั่นใน Dictionary (2)\n",
    "\n",
    "|คำสั่ง|คำอธิบาย|\n",
    "|:-:|:-:|\n",
    "|clear()|ลบสมาชิกทั้งหมดออกจาก Dictionary|\n",
    "|pop(key)|ลบข้อมูลใน Dictionary จาก Key ที่ระบุ|\n",
    "|update({key,value})|เพิ่มหรืออัพเดตข้อมูลใน Dictionary|\n",
    "|copy()|คัดลอก Dictionary|\n"
   ]
  },
  {
   "cell_type": "code",
   "execution_count": null,
   "metadata": {},
   "outputs": [],
   "source": [
    "colors = {'r': 'Red', 'g': 'green', 'b': 'blue', 'y': 'Yellow'}\n",
    "\n",
    "print(colors.pop('r')) # Red\n",
    "print(colors) # {'g': 'green', 'b': 'blue', 'y': 'Yellow'}\n",
    "\n",
    "colors.update({'r':'red'})\n",
    "print(colors) # {'g': 'green', 'b': 'blue', 'y': 'Yellow', 'r': 'red'}\n",
    "\n",
    "colors.update({'r':\"Red\"})\n",
    "print(colors) # {'g': 'green', 'b': 'blue', 'y': 'Yellow', 'r': 'Red'}\n",
    "\n",
    "rgb = colors.copy()\n",
    "rgb.pop('y')\n",
    "\n",
    "print(colors) # {'g': 'green', 'b': 'blue', 'r': 'Red'}\n",
    "print(colors) # {'g': 'green', 'b': 'blue', 'y': 'Yellow', 'r': 'Red'}\n"
   ]
  },
  {
   "cell_type": "markdown",
   "metadata": {},
   "source": [
    "## Identity Operator\n",
    "\n",
    "- ตัวแปร 2 ตัวจะเท่ากัน ถ้าชี้ไปยัง memory address เดียวกัน"
   ]
  },
  {
   "cell_type": "code",
   "execution_count": null,
   "metadata": {},
   "outputs": [],
   "source": [
    "a = [1,2,3]\n",
    "b = a\n",
    "\n",
    "print(b is a) # True\n",
    "\n",
    "c = [1,2,3]\n",
    "print(c is a) # False\n",
    "\n",
    "print(b is not a) # False\n",
    "print(c is not a) # True"
   ]
  },
  {
   "cell_type": "markdown",
   "metadata": {},
   "source": [
    "## Membership operator\n",
    "\n",
    "- หาว่ามีค่าอยู่ใน ตัวแปรมั๊ย"
   ]
  },
  {
   "cell_type": "code",
   "execution_count": null,
   "metadata": {},
   "outputs": [],
   "source": [
    "a = [1,2,3]\n",
    "\n",
    "print(1 in a) # True\n",
    "print(4 in a) # False\n",
    "\n",
    "print(1 not in a) # False\n",
    "print(4 not in a) # True"
   ]
  }
 ],
 "metadata": {
  "kernelspec": {
   "display_name": "Python 3",
   "language": "python",
   "name": "python3"
  },
  "language_info": {
   "codemirror_mode": {
    "name": "ipython",
    "version": 3
   },
   "file_extension": ".py",
   "mimetype": "text/x-python",
   "name": "python",
   "nbconvert_exporter": "python",
   "pygments_lexer": "ipython3",
   "version": "3.13.1"
  }
 },
 "nbformat": 4,
 "nbformat_minor": 2
}
