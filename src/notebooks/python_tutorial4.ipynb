{
  "cells": [
    {
      "cell_type": "markdown",
      "metadata": {
        "id": "SUmAFxvULu6c"
      },
      "source": [
        "---\n",
        "title: Tutorial 4\n",
        "lastUpdated: 2025-01-29\n",
        "---\n",
        "\n",
        "# Encryption กับ Hashing\n",
        "\n",
        "\n",
        "## Encryption คือ?\n",
        "\n",
        "![Encryption](https://media.geeksforgeeks.org/wp-content/uploads/20210115134029/EncryptionvsEncodingvsHashing1-660x280.jpg)\n",
        "\n",
        "การเข้ารหัสเป็นกระบวนการแปลงข้อความที่อ่านได้ตามปกติที่เรียกว่าข้อความธรรมดาให้เป็นข้อความขยะหรือข้อความที่ไม่สามารถอ่านได้ที่เรียกว่าไซเฟอร์เท็กซ์ ไซเฟอร์เท็กซ์ที่ได้รับจากการเข้ารหัสสามารถเปลี่ยนเป็นข้อความธรรมดาได้อย่างง่ายดายโดยใช้คีย์เข้ารหัส ตัวอย่างอัลกอริธึมการเข้ารหัสบางส่วน ได้แก่ RSA, AES และ Blowfish\n",
        "\n",
        "## Hashing คือ?\n",
        "\n",
        "![Hashing](https://media.geeksforgeeks.org/wp-content/uploads/20210115190611/NewProject-660x123.jpg)\n",
        "\n",
        "การแฮชเป็นกระบวนการแปลงข้อมูลให้เป็นคีย์โดยใช้ฟังก์ชันแฮช ข้อมูลต้นฉบับไม่สามารถดึงข้อมูลจากคีย์แฮชได้ไม่ว่าด้วยวิธีใดก็ตาม โดยทั่วไปคีย์แฮชจะถูกจัดเก็บไว้ในฐานข้อมูลและเปรียบเทียบเพื่อตรวจสอบว่าข้อมูลต้นฉบับตรงกันหรือไม่ โดยทั่วไปจะใช้เพื่อจัดเก็บรหัสผ่านสำหรับการเข้าสู่ระบบ ตัวอย่างบางส่วนของอัลกอริทึมการแฮชคือ MD5, SHA256\n",
        "\n",
        "### salt ใน hashing คือ?\n",
        "\n",
        "![salt](https://media.geeksforgeeks.org/wp-content/uploads/20220606170059/salt.png)\n",
        "\n",
        "ในการเข้ารหัส salt คือข้อมูลสุ่มที่ใช้เป็นอินพุตเพิ่มเติมให้กับฟังก์ชันทางเดียวที่แฮชข้อมูล เช่น รหัสผ่าน salt ถูกใช้เพื่อรักษารหัสผ่านให้ปลอดภัยในขณะที่จัดเก็บ ในอดีต ระบบจะคงเฉพาะฟังก์ชันแฮชการเข้ารหัสของรหัสผ่านไว้ แต่เมื่อเวลาผ่านไป ได้มีการพัฒนาข้อควรระวังเพิ่มเติมเพื่อป้องกันการระบุรหัสผ่านที่ซ้ำกันหรือรหัสผ่านทั่วไป การป้องกันอย่างหนึ่งคือการใส่ salt"
      ]
    },
    {
      "cell_type": "markdown",
      "metadata": {},
      "source": [
        "# !pip install bcrypt ไว้สำหรับ install bcrypt บน jupyter notebook หรือ google colab"
      ]
    },
    {
      "cell_type": "code",
      "execution_count": null,
      "metadata": {
        "colab": {
          "base_uri": "https://localhost:8080/"
        },
        "id": "cB6hMzRLJjmb",
        "outputId": "b1063420-17d6-4cc2-9495-16709a50eda2"
      },
      "outputs": [],
      "source": [
        "!pip install bcrypt"
      ]
    },
    {
      "cell_type": "code",
      "execution_count": 6,
      "metadata": {
        "colab": {
          "base_uri": "https://localhost:8080/"
        },
        "id": "NocfkIRkJPhC",
        "outputId": "7a3744dc-db86-426d-8986-8c5d2985a226"
      },
      "outputs": [
        {
          "name": "stdout",
          "output_type": "stream",
          "text": [
            "b'$2b$12$ttPNzPSMeE9iAA4Assz3DuUpbBnWJEMpnQspbexybzB.CMaUE/VYS'\n",
            "True\n"
          ]
        }
      ],
      "source": [
        "import bcrypt\n",
        "\n",
        "# example password\n",
        "password = 'passwordabc'\n",
        "\n",
        "# converting password to array of bytes\n",
        "bytes = password.encode('utf-8')\n",
        "\n",
        "# generating the salt\n",
        "salt = bcrypt.gensalt()\n",
        "\n",
        "# Hashing the password\n",
        "hash = bcrypt.hashpw(bytes, salt)\n",
        "\n",
        "# Taking user entered password\n",
        "userPassword =  'passwordabc'\n",
        "\n",
        "# encoding user password\n",
        "userBytes = userPassword.encode('utf-8')\n",
        "\n",
        "# checking password\n",
        "result = bcrypt.checkpw(userBytes, hash)\n",
        "\n",
        "print(hash)\n",
        "print(result)"
      ]
    },
    {
      "cell_type": "markdown",
      "metadata": {},
      "source": [
        "## โจทย์\n",
        "\n",
        "จากสิ่งที่ได้เรียนมาข้างต้น ให้นักศึกษาประยุกต์ใช้ความรู้เรื่องการใช้ hashing และ salt ในการ hashing password\n",
        "\n",
        "โดยสร้างโปรแกรมที่ถาม username กับ password\n",
        "\n",
        "โดย db คือ ตัวแปรดังต่อไปนี้ \n",
        "\n",
        "```python\n",
        "db = {\"users\":[{\"username\":\"krit\",\"password\":b'$2b$12$ttPNzPSMeE9iAA4Assz3DuUpbBnWJEMpnQspbexybzB.CMaUE/VYS'}]}\n",
        "```\n",
        "\n",
        "ให้ไปเช็ค ค่า username กับ password ที่ถูก hash ในตัวแปร db ว่าตรงกันหรือไม่?\n",
        "\n",
        "วิธีการทำก็คือ \n",
        "1. ให้สร้าง username กับ password โดยเก็บ username กับ password ที่ถูก hash แล้วลง db\n",
        "2. หลังจากนั้นให้ถาม username กับ password อีกครั้ง แล้วเช็คค่า password ที่เราป้อนเข้าไปตรงกับ password ที่ถูก hash เอาไว้ใน db หรือไม่?"
      ]
    },
    {
      "cell_type": "markdown",
      "metadata": {},
      "source": [
        "## เฉลย\n",
        "<details>\n",
        "<summary>ดูเฉลยเมื่อคิดว่าทำไม่ได้แล้วจริงๆ</summary>\n",
        "\n",
        "```python\n",
        "\n",
        "import bcrypt\n",
        "\n",
        "\n",
        "db = {\"users\":[]}\n",
        "\n",
        "menu = int(input('''\n",
        "                 1. Register User and Login User\n",
        "                 '''))\n",
        "\n",
        "match menu:\n",
        "    case 1: \n",
        "        print(f\"You input {menu} : Register and Login User\")\n",
        "        username = input(\"Please enter username\")\n",
        "        if username == \"-1\":\n",
        "            pass\n",
        "        else:\n",
        "            password = input(\"Please enter your password\")\n",
        "            if password == \"-1\":\n",
        "                pass\n",
        "            else:\n",
        "                bytes = password.encode('utf-8')\n",
        "\n",
        "                # generating the salt\n",
        "                salt = bcrypt.gensalt()\n",
        "\n",
        "                # Hashing the password\n",
        "                hash = bcrypt.hashpw(bytes, salt)\n",
        "                db[\"users\"].append({\"username\":username, \"password\": hash})\n",
        "                print(\"Register user success\")\n",
        "                print(\"Please login\")\n",
        "                username = input(\"Please enter username\")\n",
        "\n",
        "                if username == \"-1\":\n",
        "                    pass\n",
        "                else:\n",
        "                    password = input(\"Please enter your password\")\n",
        "                    if password == \"-1\":\n",
        "                        pass\n",
        "                    else:\n",
        "                        for user in db[\"users\"]:\n",
        "                            # print(user)\n",
        "                            if user[\"username\"] == username:\n",
        "\n",
        "                                userPassword =  password\n",
        "\n",
        "                                # encoding user password\n",
        "                                userBytes = userPassword.encode('utf-8')\n",
        "\n",
        "                                # checking password\n",
        "                                result = bcrypt.checkpw(userBytes, user[\"password\"])\n",
        "\n",
        "                                if result == True:\n",
        "                                    print(f\"Hello {username}\")\n",
        "                                    break\n",
        "                                else:\n",
        "                                    print(f\"Invalid username or password\")\n",
        "                                    break\n",
        "    case _:\n",
        "        print(\"Invalid menu\")\n",
        "```\n",
        "</details>"
      ]
    }
  ],
  "metadata": {
    "colab": {
      "provenance": []
    },
    "kernelspec": {
      "display_name": "Python 3",
      "name": "python3"
    },
    "language_info": {
      "codemirror_mode": {
        "name": "ipython",
        "version": 3
      },
      "file_extension": ".py",
      "mimetype": "text/x-python",
      "name": "python",
      "nbconvert_exporter": "python",
      "pygments_lexer": "ipython3",
      "version": "3.13.1"
    }
  },
  "nbformat": 4,
  "nbformat_minor": 0
}
